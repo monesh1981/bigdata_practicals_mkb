{
  "cells": [
    {
      "cell_type": "markdown",
      "metadata": {
        "id": "coHVM3UDWOIY"
      },
      "source": []
    },
    {
      "cell_type": "code",
      "execution_count": null,
      "metadata": {
        "colab": {
          "base_uri": "https://localhost:8080/"
        },
        "collapsed": true,
        "id": "uYDeAaW4FSg8",
        "outputId": "a2209453-8808-489e-bbe5-e1e04ce09ea1"
      },
      "outputs": [
        {
          "name": "stdout",
          "output_type": "stream",
          "text": [
            "Requirement already satisfied: pandas in /usr/local/lib/python3.12/dist-packages (2.2.2)\n",
            "Requirement already satisfied: numpy>=1.26.0 in /usr/local/lib/python3.12/dist-packages (from pandas) (2.0.2)\n",
            "Requirement already satisfied: python-dateutil>=2.8.2 in /usr/local/lib/python3.12/dist-packages (from pandas) (2.9.0.post0)\n",
            "Requirement already satisfied: pytz>=2020.1 in /usr/local/lib/python3.12/dist-packages (from pandas) (2025.2)\n",
            "Requirement already satisfied: tzdata>=2022.7 in /usr/local/lib/python3.12/dist-packages (from pandas) (2025.2)\n",
            "Requirement already satisfied: six>=1.5 in /usr/local/lib/python3.12/dist-packages (from python-dateutil>=2.8.2->pandas) (1.17.0)\n"
          ]
        }
      ],
      "source": [
        "!pip install pandas\n"
      ]
    },
    {
      "cell_type": "markdown",
      "metadata": {
        "id": "glmr3Vs8WQBH"
      },
      "source": [
        "**! (exclamation mark)**\n",
        "\n",
        "In  Google Colab, the ! allows you to run shell (terminal) commands directly from a code cell.\n",
        "\n",
        "Normally, pip install pandas would be run in the terminal or command prompt, but using ! lets you do it from inside Python/Colab.\n",
        "\n",
        "**pip**\n",
        "\n",
        "pip is the Python package manager. It’s used to install and manage external Python libraries that are not part of the standard library.\n",
        "\n",
        "Example: pip install numpy, pip install matplotlib, etc.\n",
        "\n",
        "**install pandas**\n",
        "\n",
        "This tells pip to download and install the pandas library from the Python Package Index (PyPI).\n",
        "\n",
        "pandas is a powerful library for data manipulation and analysis — often used in big data, data science, and analytics projects.GeoPandas, as the name suggests, extends the popular data science library pandas by adding support for geospatial data.The core data structure in GeoPandas is the geopandas.GeoDataFrame, a subclass of pandas.DataFrame, that can store geometry columns and perform spatial operations. The geopandas.GeoSeries, a subclass of pandas.Series, handles the geometries. Therefore, your GeoDataFrame is a combination of pandas.Series, with traditional data (numerical, boolean, text etc.), and geopandas.GeoSeries, with geometries (points, polygons etc.)\n",
        "It provides two main data structures:\n",
        "\n",
        "DataFrame (2D labeled data — like Excel tables)\n",
        "\n",
        "Series (1D labeled data — like a column)\n",
        "https://geopandas.org/en/stable/getting_started/introduction.html\n",
        "\n"
      ]
    },
    {
      "cell_type": "code",
      "execution_count": null,
      "metadata": {
        "colab": {
          "base_uri": "https://localhost:8080/"
        },
        "id": "nfH55LW-Huws",
        "outputId": "df55af8c-da04-400b-ed7e-eea640f67f9a"
      },
      "outputs": [
        {
          "name": "stdout",
          "output_type": "stream",
          "text": [
            "Collecting pydeck\n",
            "  Downloading pydeck-0.9.1-py2.py3-none-any.whl.metadata (4.1 kB)\n",
            "Requirement already satisfied: jinja2>=2.10.1 in /usr/local/lib/python3.12/dist-packages (from pydeck) (3.1.6)\n",
            "Requirement already satisfied: numpy>=1.16.4 in /usr/local/lib/python3.12/dist-packages (from pydeck) (2.0.2)\n",
            "Requirement already satisfied: MarkupSafe>=2.0 in /usr/local/lib/python3.12/dist-packages (from jinja2>=2.10.1->pydeck) (3.0.3)\n",
            "Downloading pydeck-0.9.1-py2.py3-none-any.whl (6.9 MB)\n",
            "\u001b[?25l   \u001b[90m━━━━━━━━━━━━━━━━━━━━━━━━━━━━━━━━━━━━━━━━\u001b[0m \u001b[32m0.0/6.9 MB\u001b[0m \u001b[31m?\u001b[0m eta \u001b[36m-:--:--\u001b[0m\r\u001b[2K   \u001b[91m━━━━━━━━━━━━━━━━━━━━━━━━━━━\u001b[0m\u001b[90m╺\u001b[0m\u001b[90m━━━━━━━━━━━━\u001b[0m \u001b[32m4.7/6.9 MB\u001b[0m \u001b[31m149.3 MB/s\u001b[0m eta \u001b[36m0:00:01\u001b[0m\r\u001b[2K   \u001b[90m━━━━━━━━━━━━━━━━━━━━━━━━━━━━━━━━━━━━━━━━\u001b[0m \u001b[32m6.9/6.9 MB\u001b[0m \u001b[31m107.0 MB/s\u001b[0m eta \u001b[36m0:00:00\u001b[0m\n",
            "\u001b[?25hInstalling collected packages: pydeck\n",
            "Successfully installed pydeck-0.9.1\n"
          ]
        }
      ],
      "source": [
        "!pip install pydeck"
      ]
    },
    {
      "cell_type": "code",
      "execution_count": null,
      "metadata": {
        "id": "rgBNMOSwHx77"
      },
      "outputs": [],
      "source": [
        "import pydeck as pdk"
      ]
    },
    {
      "cell_type": "markdown",
      "metadata": {
        "id": "aMhQ7OpTXJjO"
      },
      "source": [
        "**! (exclamation mark)**\n",
        "\n",
        "In Jupyter Notebook or Google Colab, the ! prefix lets you run terminal (shell) commands inside a Python cell.\n",
        "\n",
        "So this line runs the pip install pydeck command just as if you typed it in your system terminal.\n",
        "\n",
        "**pip**\n",
        "\n",
        "The Python package manager used to install external libraries.\n",
        "\n",
        "It fetches packages from PyPI (Python Package Index).\n",
        "\n",
        "install pydeck\n",
        "\n",
        "This installs the pydeck library and any required dependencies.\n",
        "\n",
        "**PyDeck?**\n",
        "\n",
        "PyDeck is a Python wrapper for Deck.gl, which is a WebGL-powered library for high-scale interactive map visualizations. It’s used for geospatial data visualization, especially when handling large datasets.\n",
        "\n",
        "With PyDeck, we can visualize:\n",
        "\n",
        "3D scatter plots\n",
        "\n",
        "Hexagon heatmaps\n",
        "\n",
        "Arc and line layers\n",
        "\n",
        "Point cloud maps\n",
        "\n",
        "Polygon overlays\n",
        "\n",
        "Satellite base maps\n",
        "\n",
        "**deck.gl** is a GPU-powered framework for visual exploratory data analysis of large datasets.\n",
        "A Layered Approach to Data Visualization\n",
        "deck.gl allows complex visualizations to be constructed by composing existing layers, and makes it easy to package and share new visualizations as reusable layers.High-Precision Computations in the GPU:\n",
        "By emulating 64 bit floating point computations in the GPU, deck.gl renders datasets with unparalleled accuracy and performance.\n",
        "\n",
        "https://deck.gl/#/"
      ]
    },
    {
      "cell_type": "code",
      "execution_count": null,
      "metadata": {
        "id": "288QV6MmHx5j"
      },
      "outputs": [],
      "source": [
        "data_url = \"https://raw.githubusercontent.com/ajduberstein/geo_datasets/master/small_waterfall.csv\""
      ]
    },
    {
      "cell_type": "markdown",
      "metadata": {
        "id": "3tigvL6tYXhn"
      },
      "source": [
        "**data_url**\n",
        "\n",
        "This is a variable that stores a string value (text).\n",
        "\n",
        "The string here is a URL (web address) — specifically, a link to a CSV (Comma-Separated Values) dataset hosted on GitHub.\n",
        "\n",
        "\"https://raw.githubusercontent.com/ajduberstein/geo_datasets/master/small_waterfall.csv\"\n",
        "\n",
        "**This link** points to the raw version of a CSV file in a GitHub repository.\n",
        "\n",
        "The GitHub repo is by Andrew J. Duberstein, who maintains datasets for use in PyDeck and deck.gl visualizations.\n",
        "\n",
        "The **file small_waterfall.csv ** contains geospatial data — likely coordinates (latitude, longitude) and attributes representing a waterfall or river dataset (e.g., height, width, or location type).\n",
        "\n",
        "**Purpose of this line**: This line does not download the data yet.It simply stores the URL in the variable data_url, which can later be used to load the CSV file directly into Python (for example, using pandas.read_csv(data_url))."
      ]
    },
    {
      "cell_type": "code",
      "execution_count": null,
      "metadata": {
        "id": "GVIDJVO8Hx3N"
      },
      "outputs": [],
      "source": [
        "import pandas as pd\n",
        "df = pd.read_csv(data_url)"
      ]
    },
    {
      "cell_type": "markdown",
      "metadata": {
        "id": "wBKVxW66Y0XR"
      },
      "source": [
        "1. import pandas as pd\n",
        "\n",
        "This line imports the pandas library, which is the standard Python library for data manipulation and analysis.\n",
        "\n",
        "The alias pd is used as a shorthand — it’s a universal convention in data science.\n",
        "\n",
        "2. df = pd.read_csv(data_url)\n",
        "\n",
        "This line uses the read_csv() function from pandas to read a CSV (Comma-Separated Values) file from the web URL stored in data_url.\n",
        "\n",
        "Since the link points to a raw CSV file hosted on GitHub, pandas can directly download and read it — no manual download needed.\n",
        "\n",
        "**pd.read_csv()**  Reads the CSV file from the URL. Parses it into a structured table (rows and columns). Automatically detects headers, column names, and data types (like float, int, string).\n",
        "\n",
        "**df = ...**\n",
        "\n",
        "The variable df (short for DataFrame) stores the dataset in memory.\n",
        "\n",
        "A DataFrame is like a spreadsheet or SQL table — each column has a label and each row represents a record."
      ]
    },
    {
      "cell_type": "code",
      "execution_count": null,
      "metadata": {
        "colab": {
          "background_save": true,
          "base_uri": "https://localhost:8080/",
          "height": 500
        },
        "id": "-XnuO_oQHxyj",
        "outputId": "4b0fdedc-2e6c-4ba5-de36-c36aabe118bf"
      },
      "outputs": [
        {
          "data": {
            "application/javascript": [
              "google.colab.output.setIframeHeight(500, true, {minHeight: 500, maxHeight: 500})"
            ],
            "text/plain": [
              "<IPython.core.display.Javascript object>"
            ]
          },
          "metadata": {},
          "output_type": "display_data"
        },
        {
          "name": "stdout",
          "output_type": "stream",
          "text": [
            "Buffered data was truncated after reaching the output size limit."
          ]
        }
      ],
      "source": [
        "point_cloud = pdk.Layer(\n",
        "    \"PointCloudLayer\",\n",
        "    data=df,\n",
        "    get_position=[\"x\", \"y\", \"z\"],\n",
        "    get_color=[\"r\", \"g\", \"b\"],\n",
        "    pickable=True,\n",
        "    auto_highlight=True,\n",
        "    point_size=2\n",
        ")\n",
        "\n",
        "view_state = pdk.ViewState(\n",
        "    target=[df.x.mean(), df.y.mean(), df.z.mean()],\n",
        "    rotation_x=0,\n",
        "    rotation_orbit=30,\n",
        "    zoom=5,\n",
        "    controller=True\n",
        ")\n",
        "\n",
        "view=pdk.View(type='OrbitView',controller=True)\n",
        "deck = pdk.Deck(\n",
        "    layers=[point_cloud],\n",
        "    initial_view_state=view_state,\n",
        "    views=[view]\n",
        ")\n",
        "deck.show()\n",
        "\n",
        "\n",
        "\n",
        "\n",
        "\n"
      ]
    },
    {
      "cell_type": "markdown",
      "metadata": {
        "id": "7qKzj2IxZYNU"
      },
      "source": [
        "**Concept** This code creates a PyDeck Layer — the building block of any PyDeck visualization.\n",
        "\n",
        "Each Layer defines:\n",
        "\n",
        "What to draw (e.g., points, polygons, lines, arcs, etc.)\n",
        "\n",
        "Where to draw it (using coordinates)\n",
        "\n",
        "How to style it (colors, size, interactivity)\n",
        "\n",
        "1️⃣ **point_cloud = pdk.Layer(**\n",
        "\n",
        "This creates a new PyDeck Layer object.\n",
        "\n",
        "I assign it to a variable named point_cloud (you’ll use it later in the map).\n",
        "\n",
        "2️⃣ **\"PointCloudLayer\",**\n",
        "\n",
        "This specifies the layer type.\n",
        "\n",
        "PointCloudLayer is a 3D visualization layer that plots each record as a 3D point in space.\n",
        "\n",
        "Commonly used for LiDAR, 3D terrain models, or drone-based point data.\n",
        "\n",
        "3️⃣ **data=df,**\n",
        "\n",
        "I pass pandas DataFrame (named df) as the data source for the layer.\n",
        "\n",
        "Each row in df corresponds to one point in the visualization.\n",
        "\n",
        "4️⃣ **get_position=[\"x\", \"y\", \"z\"],**\n",
        "\n",
        "This tells PyDeck which columns of your DataFrame contain the spatial coordinates.\n",
        "\n",
        "x, y, and z are the 3D position values (usually in meters or geographic coordinates).cPyDeck will plot each row at that coordinate in 3D space.\n",
        "\n",
        "**5️⃣ get_color=[\"r\", \"g\", \"b\"],**\n",
        "\n",
        "This specifies which columns to use for point color.\n",
        "\n",
        "Each column represents a color channel: Red (R), Green (G), Blue (B).\n",
        "\n",
        "6️⃣** pickable=True,**\n",
        "\n",
        "Enables mouse interaction.\n",
        "\n",
        "When True, you can click (or hover) on a point to get details from the underlying DataFrame row.\n",
        "\n",
        "Useful for exploring large 3D datasets interactively.\n",
        "\n",
        "7️⃣ **auto_highlight=True,**\n",
        "\n",
        "When you hover over a point, it automatically highlights that feature.\n",
        "\n",
        "Makes the visualization more interactive and easier to interpret.\n",
        "\n",
        "8️⃣ **point_size=2**\n",
        "\n",
        "Controls the visual size (radius) of each point in pixels.\n",
        "\n",
        "Larger values make points more visible; smaller values can make the 3D model more detailed.\n",
        "\n",
        "\n",
        "\n",
        "\n",
        "\n",
        "In PyDeck, the **ViewState** defines the camera position and orientation for your visualization.\n",
        "It’s like setting up your \"virtual camera\" — you decide:\n",
        "\n",
        "what area to focus on,\n",
        "how zoomed in or out to be,\n",
        "what rotation or tilt angle to use.\n",
        "Without a view state, the map or 3D scene won’t know where to look.\n",
        "\n",
        "1️⃣ **view_state = pdk.ViewState(**\n",
        "\n",
        "This creates a ViewState object using PyDeck.\n",
        "\n",
        "You assign it to view_state — this object will later be passed to the main visualization (pdk.Deck).\n",
        "\n",
        "2️⃣ **target=[df.x.mean(), df.y.mean(), df.z.mean()],**\n",
        "\n",
        "This defines the center point (target) that the camera focuses on.\n",
        "\n",
        "It takes the mean (average) of the x, y, and z columns in your DataFrame df.\n",
        "\n",
        "🔹 Why use** mean values**?\n",
        "Because my dataset likely spans a large area in 3D space.By taking the average of all coordinates, I center the camera over the middle of my data.\n",
        "\n",
        "3️⃣** rotation_x=0,**\n",
        "\n",
        "This sets the tilt angle (rotation around the X-axis).\n",
        "A value of 0 means the view is horizontal (flat) — no tilt upward or downward.\n",
        "Increasing this (e.g., to 45) would tilt the view, giving a more dramatic 3D perspective.\n",
        "\n",
        "4️⃣ **rotation_orbit=30,**\n",
        "\n",
        "This controls horizontal rotation of the camera around the target point.\n",
        "Think of it like orbiting around the center of your dataset — turning your view sideways.\n",
        "Here, 30 means the camera is rotated 30° around the dataset, giving a slightly angled 3D look.\n",
        "\n",
        "5️⃣ **zoom=5,**\n",
        "\n",
        "Controls how close or far the camera is from the target.\n",
        "Higher values zoom in closer, smaller values zoom out.\n",
        "Typical range: 1 (zoomed out) to 15 (zoomed in tightly).\n",
        "\n",
        "6️⃣ **controller=True**\n",
        "\n",
        "Enables user interaction controls.\n",
        "\n",
        "This lets me:\n",
        "Pan (move around)\n",
        "Zoom in/out (scroll)\n",
        "Rotate the scene (drag)\n",
        "Basically, it makes the map interactive — so you can explore the 3D data freely.\n",
        "\n",
        "\n",
        "\n",
        "**final visualization and rendering step**\n",
        "\n",
        "Concept Overview:I am creating:\n",
        "\n",
        "**A View** — which defines how you want to visualize your 3D space (camera style).\n",
        "**A Deck** — which is the main PyDeck object that renders everything (data + camera + view).\n",
        "Layer = What to draw\n",
        "ViewState = Where to look\n",
        "View = How to look\n",
        "Deck = Combine & display all of the above\n",
        "\n",
        "1️⃣ view = pdk.View(type='OrbitView', controller=True)\n",
        " pdk.View() This initializes a View object — a camera or visualization mode.\n",
        "\n",
        "type='OrbitView' Tells PyDeck to use an orbiting 3D view around my data.\n",
        "Unlike a top-down map view, the OrbitView gives a free 3D camera, similar to how you’d view a 3D model in graphics software.\n",
        "It’s ideal for 3D datasets such as:\n",
        "\n",
        "Point clouds (LiDAR, 3D scans),Elevation models,3D city models,\n",
        "The camera orbits around the target you defined in the ViewState.\n",
        "\n",
        "controller=True\n",
        "\n",
        "Enables interactive control:Drag to rotate or orbit around the scene,\n",
        "Scroll to zoom, Pan to move the camera\n",
        "\n",
        "2️⃣ deck = pdk.Deck(\n",
        "\n",
        "This line creates the main visualization container — the Deck object. Everything I want to visualize is combined here.\n",
        "\n",
        "3️⃣ layers=[point_cloud], I pass in the layer(s) to render.Here, it’s my earlier defined point_cloud (the 3D layer with x, y, z, RGB, etc.)\n",
        "\n",
        "4️⃣ initial_view_state=view_state,\n",
        "\n",
        "This sets the initial camera position and orientation using the configuration you defined earlier:It ensures  visualization starts centered on the dataset with your chosen zoom and rotation.\n",
        "\n",
        "5️⃣ views=[view]\n",
        "\n",
        "This specifies the view mode to use — here, my OrbitView.views expects a list, so even though you’re using one view, you wrap it in brackets [view].\n",
        "\n",
        "**Visualization Flow Summary**\n",
        "\n",
        "| Component     | Code                                | Purpose                             |\n",
        "| ------------- | ----------------------------------- | ----------------------------------- |\n",
        "| **Data**      | `df`                                | Contains coordinates and colors     |\n",
        "| **Layer**     | `pdk.Layer(\"PointCloudLayer\", ...)` | Defines how points are drawn        |\n",
        "| **ViewState** | `pdk.ViewState(...)`                | Defines camera position/orientation |\n",
        "| **View**      | `pdk.View(type='OrbitView', ...)`   | Defines 3D orbit view mode          |\n",
        "| **Deck**      | `pdk.Deck(layers=[...], ...)`       | Combines and renders all parts      |\n",
        "\n",
        "\n"
      ]
    },
    {
      "cell_type": "markdown",
      "metadata": {
        "id": "QX1Havc2dVTM"
      },
      "source": [
        "**deck.show()**\n",
        "\n",
        "In this line of my practical, I am displaying the 3D visualization directly inside my Jupyter Notebook or Google Colab environment. When I write deck.show(), PyDeck takes the visualization I built — which includes the point cloud layer, the view settings, and the camera configuration — and renders it interactively right within the notebook cell output. It is used for instant, on-screen visualization inside the notebook environment — allowing me to interact with and analyze my 3D data directly as part of my workflow."
      ]
    },
    {
      "cell_type": "code",
      "execution_count": null,
      "metadata": {
        "colab": {
          "background_save": true
        },
        "id": "fpGXh2myYkr8",
        "outputId": "b4628d8e-1a0a-4fc1-e5b4-1c1ff22fdb71"
      },
      "outputs": [
        {
          "data": {
            "application/javascript": [
              "google.colab.output.setIframeHeight(500, true, {minHeight: 500, maxHeight: 500})"
            ],
            "text/plain": [
              "<IPython.core.display.Javascript object>"
            ]
          },
          "metadata": {},
          "output_type": "display_data"
        },
        {
          "name": "stdout",
          "output_type": "stream",
          "text": [
            "Buffered data was truncated after reaching the output size limit."
          ]
        }
      ],
      "source": [
        "deck.to_html(\"point_cloud_visualization.html\")"
      ]
    },
    {
      "cell_type": "markdown",
      "metadata": {
        "id": "FnRqBvk5dMSs"
      },
      "source": [
        "In this line of my practical, I am saving my PyDeck visualization as an interactive HTML file. By writing deck.to_html(\"point_cloud_visualization.html\"), I am instructing Python to take the complete 3D visualization that I created using PyDeck — including the point cloud layer, the view settings, and all interactivity — and export it into a standalone HTML file named “point_cloud_visualization.html.” The main advantage of this step is that it makes my visualization shareable and portable."
      ]
    },
    {
      "cell_type": "code",
      "execution_count": null,
      "metadata": {
        "colab": {
          "background_save": true
        },
        "id": "xKIqb7mXeB-h"
      },
      "outputs": [],
      "source": [
        "from google.colab import drive\n",
        "drive.mount('/content/drive')\n",
        "deck.to_html(\"/content/drive/MyDrive/point_cloud_visualization.html\")\n"
      ]
    }
  ],
  "metadata": {
    "accelerator": "GPU",
    "colab": {
      "gpuType": "T4",
      "provenance": []
    },
    "kernelspec": {
      "display_name": "Python 3",
      "name": "python3"
    },
    "language_info": {
      "name": "python"
    }
  },
  "nbformat": 4,
  "nbformat_minor": 0
}